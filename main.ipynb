{
 "metadata": {
  "language_info": {
   "codemirror_mode": {
    "name": "ipython",
    "version": 3
   },
   "file_extension": ".py",
   "mimetype": "text/x-python",
   "name": "python",
   "nbconvert_exporter": "python",
   "pygments_lexer": "ipython3",
   "version": "3.9.0"
  },
  "orig_nbformat": 4,
  "kernelspec": {
   "name": "python3",
   "display_name": "Python 3.9.0 64-bit"
  },
  "interpreter": {
   "hash": "019f192706e039e52fb22b15efe4df4463bd4f5ccd3220c5e13c696571ff1f9a"
  }
 },
 "nbformat": 4,
 "nbformat_minor": 2,
 "cells": [
  {
   "cell_type": "code",
   "execution_count": 1,
   "metadata": {},
   "outputs": [
    {
     "output_type": "stream",
     "name": "stdout",
     "text": [
      "Ready to use cognitive services at https://kaiwenpratice4.cognitiveservices.azure.com/ using key 066c6d22483f4da2976dc29cf2c7dc07\n"
     ]
    }
   ],
   "source": [
    "cog_key = '066c6d22483f4da2976dc29cf2c7dc07'\n",
    "cog_endpoint = 'https://kaiwenpratice4.cognitiveservices.azure.com/'\n",
    "\n",
    "print('Ready to use cognitive services at {} using key {}'.format(cog_endpoint, cog_key))"
   ]
  },
  {
   "cell_type": "code",
   "execution_count": 8,
   "metadata": {},
   "outputs": [],
   "source": [
    "from azure.cognitiveservices.vision.face import FaceClient\n",
    "from azure.cognitiveservices.vision.computervision import ComputerVisionClient\n",
    "from msrest.authentication import CognitiveServicesCredentials\n",
    "import matplotlib.pyplot as plt\n",
    "from PIL import Image, ImageDraw\n",
    "from python_code import faces\n",
    "import os\n",
    "import requests\n",
    "from bs4 import BeautifulSoup\n",
    "import bs4 \n",
    "\n",
    "%matplotlib inline\n",
    "\n",
    "# Create a face detection client.\n",
    "face_client = FaceClient(cog_endpoint, CognitiveServicesCredentials(cog_key))\n",
    "computervision_client = ComputerVisionClient(cog_endpoint, CognitiveServicesCredentials(cog_key))\n",
    "\n",
    "Library = {'black_boxer':\"黑人拳击手_笑脸\", 'yaoming':\"姚明_笑脸\", 'zhangxueyou_zhangzui':\"张学友_吔屎啦你\", \"jinguanzhang\":\"金馆长_笑脸\"}\n",
    "Memes = ['black_boxer','yaoming','zhangxueyou_zhangzui','jinguanzhang']\n",
    "train_path = \"C:/Users/5125/Desktop/项目/\""
   ]
  },
  {
   "cell_type": "code",
   "execution_count": 9,
   "metadata": {},
   "outputs": [
    {
     "output_type": "stream",
     "name": "stdout",
     "text": [
      "{'additional_properties': {}, 'name': 'black_boxer', 'user_data': None, 'recognition_model': None, 'person_group_id': 'black_boxer'}\n",
      "{'additional_properties': {}, 'name': 'black_boxer', 'user_data': None, 'person_id': '0cf45383-5e29-4f17-9fe9-383967c8e086', 'persisted_face_ids': []}\n",
      "black_boxer Trained!\n",
      "{'additional_properties': {}, 'name': 'yaoming', 'user_data': None, 'recognition_model': None, 'person_group_id': 'yaoming'}\n",
      "{'additional_properties': {}, 'name': 'yaoming', 'user_data': None, 'person_id': '97bf72f4-36fd-4b9e-b67d-1ecce366e4c0', 'persisted_face_ids': []}\n",
      "yaoming Trained!\n",
      "{'additional_properties': {}, 'name': 'zhangxueyou_zhangzui', 'user_data': None, 'recognition_model': None, 'person_group_id': 'zhangxueyou_zhangzui'}\n",
      "{'additional_properties': {}, 'name': 'zhangxueyou_zhangzui', 'user_data': None, 'person_id': 'b87807b0-0387-47b5-818a-718db21bfd21', 'persisted_face_ids': []}\n",
      "zhangxueyou_zhangzui Trained!\n",
      "{'additional_properties': {}, 'name': 'jinguanzhang', 'user_data': None, 'recognition_model': None, 'person_group_id': 'jinguanzhang'}\n",
      "{'additional_properties': {}, 'name': 'jinguanzhang', 'user_data': None, 'person_id': '422a155e-6160-4f45-b421-cf27baa26205', 'persisted_face_ids': []}\n",
      "jinguanzhang Trained!\n"
     ]
    },
    {
     "output_type": "display_data",
     "data": {
      "text/plain": "<Figure size 576x576 with 0 Axes>"
     },
     "metadata": {}
    },
    {
     "output_type": "display_data",
     "data": {
      "text/plain": "<Figure size 576x576 with 0 Axes>"
     },
     "metadata": {}
    },
    {
     "output_type": "display_data",
     "data": {
      "text/plain": "<Figure size 576x576 with 0 Axes>"
     },
     "metadata": {}
    },
    {
     "output_type": "display_data",
     "data": {
      "text/plain": "<Figure size 576x576 with 0 Axes>"
     },
     "metadata": {}
    }
   ],
   "source": [
    "import matplotlib.pyplot as plt\n",
    "from PIL import Image\n",
    "import os\n",
    "%matplotlib inline\n",
    "\n",
    "Group = []\n",
    "\n",
    "for meme in Memes:\n",
    "\n",
    "    group_id = meme\n",
    "    try:\n",
    "        # Delete group if it already exists\n",
    "        face_client.person_group.delete(group_id)\n",
    "    except Exception as ex:\n",
    "        print(ex.message)\n",
    "    finally:\n",
    "        face_client.person_group.create(person_group_id=group_id,name=meme, recognition_model='recognition_04')\n",
    "        print (face_client.person_group.get(group_id))\n",
    "\n",
    "    # Add a person (Wendell) to the group\n",
    "    new_meme = face_client.person_group_person.create(group_id, name=meme,recognition_model='recognition_04')\n",
    "    print(face_client.person_group_person.get(group_id,new_meme.person_id))\n",
    "\n",
    "    # Get photo's of Wendell\n",
    "    #folder = os.path.join('data', 'face', 'wendell')\n",
    "    folder =  \"/表情包/\" + Library[meme]\n",
    "    face_1_pics = os.listdir(folder)\n",
    "\n",
    "    # Register the photos\n",
    "    i = 0\n",
    "    fig = plt.figure(figsize=(8, 8))\n",
    "    for pic in face_1_pics:\n",
    "        # Add each photo to person in person group\n",
    "        img_path = os.path.join(folder, pic)\n",
    "        img_stream = open(img_path, \"rb\")\n",
    "        try:\n",
    "            face_client.person_group_person.add_face_from_stream(group_id, new_meme.person_id, img_stream)\n",
    "        except:\n",
    "            pass\n",
    "\n",
    "    Group.append(new_meme)\n",
    "\n",
    "    face_client.person_group.train(group_id)\n",
    "    print(meme + ' Trained!')\n",
    "\n",
    "\n",
    "\n"
   ]
  },
  {
   "cell_type": "code",
   "execution_count": 6,
   "metadata": {},
   "outputs": [
    {
     "output_type": "stream",
     "name": "stdout",
     "text": [
      "105度的你\n"
     ]
    }
   ],
   "source": [
    "image_path = input(\"输入图片路径:\")\n",
    "#image_path = \"C:/Users/5125/Desktop/项目/表情包/黑人拳击手/1.jpg\"\n",
    "image_stream = open(image_path, \"rb\")\n",
    "\n",
    "image_faces = face_client.face.detect_with_stream(image=image_stream,recognition_model='recognition_04')\n",
    "#print(black_boxer.person_id)\n",
    "#print(image_faces[0].face_id)\n",
    "\n",
    "image_stream = open(image_path, \"rb\")\n",
    "image_face_ids = list(map(lambda face: face.face_id, image_faces))\n",
    "# Use the Computer Vision service to find text in the image\n",
    "read_results = computervision_client.recognize_printed_text_in_stream(image_stream)\n",
    "\n",
    "# Process the text line by line\n",
    "for region in read_results.regions:\n",
    "    for line in region.lines:\n",
    "\n",
    "        # Read the words in the line of text\n",
    "        line_text = ''\n",
    "        for word in line.words:\n",
    "            line_text += word.text \n",
    "        print(line_text)\n",
    "\n",
    "image_text = \"\"\n",
    "\n",
    "for meme in Memes:\n",
    "    #print(meme)\n",
    "    recognized_faces = face_client.face.identify(image_face_ids, meme)\n",
    "    for i in recognized_faces:\n",
    "        if i.candidates != []:\n",
    "            image_text = meme\n",
    "    #verify_result_same = face_client.face.verify_face_to_face(image_faces[0].face_id, recognized_faces[0].face_id)\n",
    "    #print(verify_result_same)\n",
    "\n",
    "#verify_result_same = face_client.face.verify_face_to_person(image_faces[0].face_id,black_boxer.person_id)\n",
    "#print(verify_result_same)"
   ]
  },
  {
   "cell_type": "code",
   "execution_count": 7,
   "metadata": {},
   "outputs": [
    {
     "output_type": "stream",
     "name": "stdout",
     "text": [
      "表情包人脸：张学友_吔屎啦你\n文字含义: 指歌曲热爱105℃的你，由阿肆演唱，是一首广告曲。‌​‌​‌​‌‌​‌​‌​‌‌‌‌被一些粉丝拿去做了张哲瀚个人剪辑视频的bgm，在帅哥老婆➕歌曲本身朗朗上口的双重buff下，视频和歌在粉丝群体中迅速传播，因为旋律轻松活泼也被打趣称为菡菡幼儿园园歌。粉丝也屡次提出想听张哲瀚本人演唱该歌曲的愿望，在今日张哲瀚生日直播中实现啦！相似梗:苏破爱豆的笑容都没你的甜～（是该歌第一句歌词）  \n"
     ]
    }
   ],
   "source": [
    "try:\n",
    "        html = requests.get(\"https://jikipedia.com/search?phrase=\" + line_text)\n",
    "except:\n",
    "        print(\"Failed\")\n",
    "try:\n",
    "        soup = BeautifulSoup(html.text, 'html.parser')\n",
    "        print(\"表情包人脸：\" + Library[image_text])\n",
    "        print(\"文字含义: \" + soup.find(\"div\",{\"class\": \"brax-render render\"}).get_text())\n",
    "except:\n",
    "        print(\"Error\")"
   ]
  },
  {
   "cell_type": "code",
   "execution_count": null,
   "metadata": {},
   "outputs": [],
   "source": []
  }
 ]
}